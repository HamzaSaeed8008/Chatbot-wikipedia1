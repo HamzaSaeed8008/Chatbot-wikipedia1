{
 "cells": [
  {
   "cell_type": "code",
   "execution_count": 1,
   "id": "82ff4fb9",
   "metadata": {},
   "outputs": [
    {
     "name": "stdout",
     "output_type": "stream",
     "text": [
      "Collecting wikipedia\n",
      "  Downloading wikipedia-1.4.0.tar.gz (27 kB)\n",
      "  Preparing metadata (setup.py): started\n",
      "  Preparing metadata (setup.py): finished with status 'done'\n",
      "Requirement already satisfied: beautifulsoup4 in c:\\users\\hp\\anaconda3\\lib\\site-packages (from wikipedia) (4.12.2)\n",
      "Requirement already satisfied: requests<3.0.0,>=2.0.0 in c:\\users\\hp\\anaconda3\\lib\\site-packages (from wikipedia) (2.31.0)\n",
      "Requirement already satisfied: charset-normalizer<4,>=2 in c:\\users\\hp\\anaconda3\\lib\\site-packages (from requests<3.0.0,>=2.0.0->wikipedia) (2.0.4)\n",
      "Requirement already satisfied: idna<4,>=2.5 in c:\\users\\hp\\anaconda3\\lib\\site-packages (from requests<3.0.0,>=2.0.0->wikipedia) (3.4)\n",
      "Requirement already satisfied: urllib3<3,>=1.21.1 in c:\\users\\hp\\anaconda3\\lib\\site-packages (from requests<3.0.0,>=2.0.0->wikipedia) (1.26.16)\n",
      "Requirement already satisfied: certifi>=2017.4.17 in c:\\users\\hp\\anaconda3\\lib\\site-packages (from requests<3.0.0,>=2.0.0->wikipedia) (2023.7.22)\n",
      "Requirement already satisfied: soupsieve>1.2 in c:\\users\\hp\\anaconda3\\lib\\site-packages (from beautifulsoup4->wikipedia) (2.4)\n",
      "Building wheels for collected packages: wikipedia\n",
      "  Building wheel for wikipedia (setup.py): started\n",
      "  Building wheel for wikipedia (setup.py): finished with status 'done'\n",
      "  Created wheel for wikipedia: filename=wikipedia-1.4.0-py3-none-any.whl size=11707 sha256=d55a7dd105374bbfd1e67ed52aaedd6299ffd11594fdf005b4ba700dd8f05aef\n",
      "  Stored in directory: c:\\users\\hp\\appdata\\local\\pip\\cache\\wheels\\8f\\ab\\cb\\45ccc40522d3a1c41e1d2ad53b8f33a62f394011ec38cd71c6\n",
      "Successfully built wikipedia\n",
      "Installing collected packages: wikipedia\n",
      "Successfully installed wikipedia-1.4.0\n",
      "Note: you may need to restart the kernel to use updated packages.\n"
     ]
    }
   ],
   "source": [
    "pip install wikipedia"
   ]
  },
  {
   "cell_type": "code",
   "execution_count": null,
   "id": "c94af64b",
   "metadata": {},
   "outputs": [
    {
     "name": "stdout",
     "output_type": "stream",
     "text": [
      "Welcome to the Wikipedia Chatbot! Type 'exit' to end the conversation.\n",
      "You: hi who is quide azam ?\n",
      "Wikipedia Chatbot: Page not found. Please try another query.\n",
      "You: who is allama iqbal\n",
      "Wikipedia Chatbot: Sir Muhammad Iqbal (9 November 1877 – 21 April 1938) was a South Asian Islamic philosopher, poet and politician. His poetry is considered to be among the greatest of the 20th century, and his vision of a cultural and political ideal for the Muslims of British-ruled India is widely regarded as having animated the impulse for the Pakistan Movement. He is commonly referred to by the honourific Allama (Persian: علامه, transl. \"learned\").  and widely considered one of the most important and influenti\n",
      "You: who is donald trump?\n",
      "Wikipedia Chatbot: Donald John Trump Jr. (born December 31, 1977) is an American businessman, former television presenter, political activist, and author. He is the eldest child of former U.S. President Donald Trump and his first wife Ivana Trump.\n",
      "Trump serves as a trustee and executive vice president of The Trump Organization, running the company alongside his younger brother Eric. During their father's presidency, the brothers continued to do deals and investments in foreign countries, as well as collect payment\n"
     ]
    }
   ],
   "source": [
    "import wikipedia\n",
    "\n",
    "def search_wikipedia(query):\n",
    "    try:\n",
    "        page = wikipedia.page(query)\n",
    "        return page.content\n",
    "    except wikipedia.exceptions.DisambiguationError as e:\n",
    "        return \"Multiple results found. Please be more specific.\"\n",
    "    except wikipedia.exceptions.PageError as e:\n",
    "        return \"Page not found. Please try another query.\"\n",
    "\n",
    "print(\"Welcome to the Wikipedia Chatbot! Type 'exit' to end the conversation.\")\n",
    "\n",
    "while True:\n",
    "    user_input = input(\"You: \")\n",
    "    if user_input.lower() == 'exit':\n",
    "        print(\"Wikipedia Chatbot: Goodbye!\")\n",
    "        break\n",
    "    response = search_wikipedia(user_input)\n",
    "    print(\"Wikipedia Chatbot:\", response[:500])  # Displaying only the first 500 characters of the response\n"
   ]
  },
  {
   "cell_type": "code",
   "execution_count": null,
   "id": "67cc44f9",
   "metadata": {},
   "outputs": [],
   "source": []
  }
 ],
 "metadata": {
  "kernelspec": {
   "display_name": "Python 3 (ipykernel)",
   "language": "python",
   "name": "python3"
  },
  "language_info": {
   "codemirror_mode": {
    "name": "ipython",
    "version": 3
   },
   "file_extension": ".py",
   "mimetype": "text/x-python",
   "name": "python",
   "nbconvert_exporter": "python",
   "pygments_lexer": "ipython3",
   "version": "3.11.5"
  }
 },
 "nbformat": 4,
 "nbformat_minor": 5
}
