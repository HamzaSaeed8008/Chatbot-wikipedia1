{
 "cells": [
  {
   "cell_type": "code",
   "execution_count": 2,
   "id": "9ac80895",
   "metadata": {},
   "outputs": [
    {
     "name": "stdout",
     "output_type": "stream",
     "text": [
      "Collecting PyPDF2Note: you may need to restart the kernel to use updated packages.\n",
      "\n",
      "  Downloading pypdf2-3.0.1-py3-none-any.whl.metadata (6.8 kB)\n",
      "Downloading pypdf2-3.0.1-py3-none-any.whl (232 kB)\n",
      "   ---------------------------------------- 0.0/232.6 kB ? eta -:--:--\n",
      "   ---------------------------------------- 0.0/232.6 kB ? eta -:--:--\n",
      "   - -------------------------------------- 10.2/232.6 kB ? eta -:--:--\n",
      "   - -------------------------------------- 10.2/232.6 kB ? eta -:--:--\n",
      "   ----- --------------------------------- 30.7/232.6 kB 217.9 kB/s eta 0:00:01\n",
      "   ------ -------------------------------- 41.0/232.6 kB 219.4 kB/s eta 0:00:01\n",
      "   ---------- ---------------------------- 61.4/232.6 kB 273.8 kB/s eta 0:00:01\n",
      "   ------------------ ------------------- 112.6/232.6 kB 437.6 kB/s eta 0:00:01\n",
      "   ----------------------- -------------- 143.4/232.6 kB 448.2 kB/s eta 0:00:01\n",
      "   -------------------------------------- 232.6/232.6 kB 592.9 kB/s eta 0:00:00\n",
      "Installing collected packages: PyPDF2\n",
      "Successfully installed PyPDF2-3.0.1\n"
     ]
    }
   ],
   "source": [
    "pip install PyPDF2"
   ]
  },
  {
   "cell_type": "code",
   "execution_count": 3,
   "id": "3605f886",
   "metadata": {},
   "outputs": [],
   "source": [
    "import PyPDF2\n",
    "import nltk\n",
    "from nltk.tokenize import word_tokenize, sent_tokenize\n",
    "from nltk.corpus import stopwords\n",
    "from nltk.stem import WordNetLemmatizer\n",
    "\n"
   ]
  },
  {
   "cell_type": "code",
   "execution_count": 5,
   "id": "1720811d",
   "metadata": {},
   "outputs": [],
   "source": [
    "file_path = \"C:\\\\Users\\HP\\\\Desktop\\\\Text Summ Papers\\\\7- Text Summerization H.pdf\""
   ]
  },
  {
   "cell_type": "code",
   "execution_count": 13,
   "id": "9e05253c",
   "metadata": {},
   "outputs": [
    {
     "name": "stdout",
     "output_type": "stream",
     "text": [
      "Ask me something about the document: text summarization\n",
      "Chatbot: research article deep learning based abstractive text summarization : approach , datasets , evaluation measure , challenge dima suleiman arafat awajan princess sumaya university technology , amman , jordan correspondence addressed dima suleiman ; d.suleiman @ psut.edu.jo received 24 april 2020 ; revised 1 july 2020 ; accepted 25 july 2020 ; published 24 august 2020 academic editor : dimitris mourtzis copyright ©2020 dima suleiman arafat awajan .\n",
      "abstractive summarization apporaches based recurrent neural network + attention mechanism single-sentence summary neural attention model abstractive sentence summarization ( ab ) abstractive sentence summarization attentive recurrent neural network ( ra ) quasi-recurrent neural network ( qrnn ) + cnn generating news headline recurrent neural network abstractive text summarization using attentive sequence-to-sequence rnns selective encoding abstractive sentence summarization ( sea ) faithful original : fact aware neural abstractive summarization ( ftsumg ) improving transformer sequential context representation abstractive text summarization ( rct ) multisentence summary get point : summarization pointer-generator network reinforcement learning ( rl ) generative adversarial network abstractive text summarization exploring semantic phrase ( atsdl ) + cnn bidirectional attentional encoder-decoder model bidirectional beam search key information guide network improving abstraction text summarization dual encoding abstractive text summarization ( deats ) bidirectional decoder ( bisum ) text summarization pretrained encoders text abstraction summary model based bert word embedding reinforcement learning transformer-based model single-document neural summarization text summarization method based double attention pointer network ( dapt ) figure4 : taxonomyofseveralapproachesthatusearecurrentneuralnetworkandattentionmechanisminabstractivetextsummarisation based summary type.mathematicalproblemsinengineering 7xy_he encoder-decoder rnn sequence-to-sequence modelswereutilisedin [ 55 ] , whichmappedtheinputstothe target sequence ; approach also employed [ 38 , 51 ] .\n",
      "5.datasets text summarization various datasets selected abstractive text summa-risation , including duc2003 , duc2004 [ 69 ] , gigaword [ 70 ] , cnn/daily mail [ 71 ] .\n",
      "b. al-saleh m. e. b. menai , “ automatic arabic text summarization : survey , ” artiﬁcial intelligence review , vol .\n",
      "a. awajan , “ deep learning based ex- tractive text summarization : approach , datasets eval-uation measure , ” proceeding 2019 sixth international conference social network analysis , man-agementandsecurity ( snams ) , pp.204–210 , granada , spain , 2019 .\n",
      "a. al-radaideh d. q. bataineh , “ hybrid approach arabic text summarization using domain knowledge genetic algorithm , ” cognitive computation , vol .\n",
      "[ 11 ] n.moratanchands.chitrakala , “ asurveyonabstractivetext summarization , ” proceeding 2016 international conference circuit , power computing technology ( iccpct ) , pp .\n",
      "[ 15 ] s. yeasmin , p. b. tumpa , a. m. nitu , e. ali , m. i. afjal , “ study abstractive text summarization technique , ” american journal engineering research , vol .\n",
      ", “ abstractive text summarization based improved semantic graph ap-proach , ” international journal parallel programming , vol .\n",
      "[ 19 ] n.raphal , h.duwarah , andp.daniel , “ surveyonabstractive text summarization , ” proceeding 2018 international conferenceoncommunicationandsignalprocessing ( iccsp ) , pp .\n",
      "[ 21 ] a. mahajani , v. pandya , i. maria , d. sharma , “ com- prehensivesurveyonextractiveandabstractivetechniquesfor text summarization , ” ambient communication computer system , y.-c. hu , s. tiwari , k. k. mishra , m.c.trivedi , eds.\n",
      "[ 22 ] t. shi , y. keneshloo , n. ramakrishnan , c. k. reddy , neural abstractive text summarization sequence-to-sequence model : survey , http : //arxiv.org/abs/1812.02303,2020 .\n",
      "[ 23 ] a.joshi , e.fidalgo , e.alegre , andu.dele´ , “ deeplearning based text summarization : approach , database eval-uation measure , ” proceeding international con- ference application intelligent system , spain , 2018 .\n",
      "[ 38 ] e. jobson a. guti´ errez , abstractive text summarization using attentive sequence-to-sequence rnns , p. 8 , 2016.mathematicalproblemsinengineering 27 [ 39 ] s. chopra , m. auli , a. m. rush , “ abstractive sentence summarization attentive recurrent neural network , ” proceedingsofthenaacl-hlt16 , pp.93–98 , sandiego , ca , usa , 2016 .\n",
      "[ 59 ] c. li , w. xu , s. li , s. gao , “ guiding generation abstractive text summarization based key information guide network , ” proceeding 2018 conference northamericanchapteroftheassociationforcomputational linguistics : human language technology , pp .\n",
      "[ 60 ] w. kry ´sci´nski , r. paulus , c. xiong , r. socher , “ im- proving abstraction text summarization , ” proceeding conference empirical method natural languageprocessing ( emnlp ) , brussels , belgium , november 2018 .\n",
      "[ 61 ] k. yao , l. zhang , d. du , t. luo , l. tao , y. wu , “ dual encoding abstractive text summarization , ” ieee trans- action cybernetics , pp .\n",
      "[ 65 ] y. liu m. lapata , “ text summarization pretrained encoders , ” 2019 , http : //arxiv.org/abs/1908.08345 .\n",
      "[ 69 ] d. harman p. , “ xy_he eﬀects human variation duc summarization evaluation , text summarization branch , ” proceeding acl-04 workshop , vol .\n"
     ]
    }
   ],
   "source": [
    "\n",
    "\n",
    "def read_pdf(file_path):\n",
    "    with open(file_path, 'rb') as file:\n",
    "        pdf_reader = PyPDF2.PdfReader(file)\n",
    "        text = \"\"\n",
    "        for page_num in range(len(pdf_reader.pages)):\n",
    "            text += pdf_reader.pages[page_num].extract_text()\n",
    "    return text\n",
    "\n",
    "def preprocess_text(text):\n",
    "    # Tokenization\n",
    "    tokens = word_tokenize(text)\n",
    "    \n",
    "    # Convert to lowercase\n",
    "    tokens = [word.lower() for word in tokens]\n",
    "    \n",
    "    # Remove stopwords\n",
    "    stop_words = set(stopwords.words('english'))\n",
    "    tokens = [word for word in tokens if word not in stop_words]\n",
    "    \n",
    "    # Lemmatization\n",
    "    lemmatizer = WordNetLemmatizer()\n",
    "    tokens = [lemmatizer.lemmatize(word) for word in tokens]\n",
    "    \n",
    "    # Join the tokens into a single string\n",
    "    processed_text = ' '.join(tokens)\n",
    "    \n",
    "    return processed_text\n",
    "\n",
    "def chatbot(query, processed_text):\n",
    "    # Find sentences containing the query\n",
    "    matching_sentences = []\n",
    "    for sentence in sent_tokenize(processed_text):\n",
    "        if query.lower() in sentence.lower():\n",
    "            matching_sentences.append(sentence)\n",
    "    \n",
    "    # Return the matching sentences\n",
    "    if matching_sentences:\n",
    "        return \"\\n\".join(matching_sentences)\n",
    "    else:\n",
    "        return \"Sorry, I couldn't find any information related to your query.\"\n",
    "\n",
    "# Read the PDF document\n",
    "file_path = \"C:\\\\Users\\HP\\\\Desktop\\\\Text Summ Papers\\\\7- Text Summerization H.pdf\"\n",
    "document_text = read_pdf(file_path)\n",
    "\n",
    "# Preprocess the text\n",
    "processed_text = preprocess_text(document_text)\n",
    "\n",
    "# Test the chatbot\n",
    "user_query = input(\"Ask me something about the document: \")\n",
    "response = chatbot(user_query, processed_text)\n",
    "print(\"Chatbot:\", response)\n"
   ]
  },
  {
   "cell_type": "code",
   "execution_count": null,
   "id": "0bcb3dc2",
   "metadata": {},
   "outputs": [],
   "source": []
  }
 ],
 "metadata": {
  "kernelspec": {
   "display_name": "Python 3 (ipykernel)",
   "language": "python",
   "name": "python3"
  },
  "language_info": {
   "codemirror_mode": {
    "name": "ipython",
    "version": 3
   },
   "file_extension": ".py",
   "mimetype": "text/x-python",
   "name": "python",
   "nbconvert_exporter": "python",
   "pygments_lexer": "ipython3",
   "version": "3.11.5"
  }
 },
 "nbformat": 4,
 "nbformat_minor": 5
}
